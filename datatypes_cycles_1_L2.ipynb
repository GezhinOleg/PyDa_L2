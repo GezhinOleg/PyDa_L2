{
  "nbformat": 4,
  "nbformat_minor": 0,
  "metadata": {
    "colab": {
      "name": "datatypes_cycles_1_L2",
      "provenance": [],
      "authorship_tag": "ABX9TyNO7bVS9pcXKkYGl9/Oq0/d",
      "include_colab_link": true
    },
    "kernelspec": {
      "name": "python3",
      "display_name": "Python 3"
    },
    "language_info": {
      "name": "python"
    }
  },
  "cells": [
    {
      "cell_type": "markdown",
      "metadata": {
        "id": "view-in-github",
        "colab_type": "text"
      },
      "source": [
        "<a href=\"https://colab.research.google.com/github/GezhinOleg/PyDa_L2/blob/main/datatypes_cycles_1_L2.ipynb\" target=\"_parent\"><img src=\"https://colab.research.google.com/assets/colab-badge.svg\" alt=\"Open In Colab\"/></a>"
      ]
    },
    {
      "cell_type": "code",
      "metadata": {
        "colab": {
          "base_uri": "https://localhost:8080/"
        },
        "id": "Xw5TQ7V4YiKF",
        "outputId": "2b59139d-5fbf-4222-b146-da17387f5f37"
      },
      "source": [
        "'''\n",
        "Дана переменная, в которой хранится слово из латинских букв.\n",
        "Напишите код, который выводит на экран:\n",
        "    среднюю букву, если число букв в слове нечетное;\n",
        "    две средних буквы, если число букв четное.\n",
        "'''\n",
        "word = input()\n",
        "slice1 = int(len(word) / 2)\n",
        "\n",
        "if len(word) % 2 == 0:\n",
        "    slice2 = slice1 - 1\n",
        "    print(word[slice2], word[slice1])\n",
        "else:\n",
        "    print(word[slice1])"
      ],
      "execution_count": null,
      "outputs": [
        {
          "output_type": "stream",
          "text": [
            "index\n",
            "d\n"
          ],
          "name": "stdout"
        }
      ]
    },
    {
      "cell_type": "code",
      "metadata": {
        "id": "2zoyA3GOiOyb"
      },
      "source": [
        "'''\n",
        "Напишите программу, которая последовательно запрашивает у пользователя числа\n",
        "(по одному за раз) и после первого нуля выводит сумму всех ранее введенных\n",
        "чисел.\n",
        "'''\n",
        "\n",
        "num = int(input('Введите целое число и нажмите \"Enter:\" '))\n",
        "sum = 0\n",
        "\n",
        "while num != 0:\n",
        "    sum += num\n",
        "    num = int(input('Введите ещё целое число и нажмите \"Enter:\" '))\n",
        "else:\n",
        "    print('Сумма введеных чисел: 'sum)\n"
      ],
      "execution_count": null,
      "outputs": []
    },
    {
      "cell_type": "code",
      "metadata": {
        "colab": {
          "base_uri": "https://localhost:8080/"
        },
        "id": "JLioJ0Qbk_B_",
        "outputId": "55a63459-5137-48b3-ac60-448c4ff84b92"
      },
      "source": [
        "boys = ['Peter', 'Alex', 'John', 'Arthur', 'Richard']\n",
        "girls = ['Kate', 'Liza', 'Kira', 'Emma', 'Trisha']\n",
        "\n",
        "if len(boys) == len(girls):\n",
        "    for i, j in zip(sorted(boys), sorted(girls)):\n",
        "    \tprint(i, j, sep = ' и ')\n",
        "else:\n",
        "    print('Внимание, кто-то может остаться без пары!')"
      ],
      "execution_count": null,
      "outputs": [
        {
          "output_type": "stream",
          "text": [
            "Alex и Emma\n",
            "Arthur и Kate\n",
            "John и Kira\n",
            "Peter и Liza\n",
            "Richard и Trisha\n"
          ],
          "name": "stdout"
        }
      ]
    },
    {
      "cell_type": "code",
      "metadata": {
        "colab": {
          "base_uri": "https://localhost:8080/"
        },
        "id": "EOnqWBQT6WUl",
        "outputId": "dfb6ae7c-6b12-4c7f-ce94-7c96461313aa"
      },
      "source": [
        "'''\n",
        "У нас есть список, содержащий информацию о среднедневной температуре\n",
        "в Фаренгейтах за произвольный период по странам (структура данных в примере).\n",
        "Необходимо написать код, который рассчитает среднюю температуру за период\n",
        "в Цельсиях(!) для каждой страны.\n",
        "'''\n",
        "countries_temperature = [\n",
        "    ['Thailand', [75.2, 77, 78.8, 73.4, 68, 75.2, 77]],\n",
        "    ['Germany', [57.2, 55.4, 59, 59, 53.6]],\n",
        "    ['Russia', [35.6, 37.4, 39.2, 41, 42.8, 39.2, 35.6]],\n",
        "    ['Poland', [50, 50, 53.6, 57.2, 55.4, 55.4]]\n",
        "]\n",
        "print('Средняя температура в странах:')\n",
        "for i in countries_temperature:\n",
        "    t_fahrenheit = sum(i[1]) / len(i[1])\n",
        "    t_celsius = round(5 / 9 * (t_fahrenheit - 32), 1)\n",
        "    print(i[0], '-', t_celsius, 'C')\n"
      ],
      "execution_count": null,
      "outputs": [
        {
          "output_type": "stream",
          "text": [
            "Средняя температура в странах:\n",
            "Thailand - 23.9 C\n",
            "Germany - 13.8 C\n",
            "Russia - 3.7 C\n",
            "Poland - 12.0 C\n"
          ],
          "name": "stdout"
        }
      ]
    },
    {
      "cell_type": "code",
      "metadata": {
        "id": "7SXVfBSMLBvs"
      },
      "source": [
        "stream = [\n",
        "    '2018-01-01,user1,3',\n",
        "    '2018-01-07,user1,4',\n",
        "    '2018-03-29,user1,1',\n",
        "    '2018-04-04,user1,13',\n",
        "    '2018-01-05,user2,7',\n",
        "    '2018-06-14,user3,4',\n",
        "    '2018-07-02,user3,10',\n",
        "    '2018-03-21,user4,19',\n",
        "    '2018-03-22,user4,4',\n",
        "    '2018-04-22,user4,8',\n",
        "    '2018-05-03,user4,9',\n",
        "    '2018-05-11,user4,11',\n",
        "]\n",
        "\n",
        "sum = 0\n",
        "user_zero = ''\n",
        "cnt = 0\n",
        "for i in stream:\n",
        "    num = int((i.split(','))[2])\n",
        "    sum += num\n",
        "    user_unic = i.split(',')[1]\n",
        "    if user_unic != user_zero:\n",
        "        cnt += 1\n",
        "        user_zero = user_unic\n",
        "\n",
        "print('Среднее количество просмотров на уникального пользователя: ', round(sum / cnt, 2))\n"
      ],
      "execution_count": null,
      "outputs": []
    },
    {
      "cell_type": "code",
      "metadata": {
        "colab": {
          "base_uri": "https://localhost:8080/"
        },
        "id": "q7zHRd7KUqNK",
        "outputId": "b695d941-d741-4b3e-ad06-e784760f8176"
      },
      "source": [
        "st = input()\n",
        "first_list = sorted(list(''.join(st.split())))\n",
        "finish_list = []\n",
        "for i in first_list:\n",
        "    cnt = first_list.count(i)\n",
        "    if  i not in finish_list:\n",
        "        if cnt > 1:\n",
        "            finish_list.append(i)\n",
        "\n",
        "print(*finish_list)\n"
      ],
      "execution_count": null,
      "outputs": [
        {
          "output_type": "stream",
          "text": [
            "1 1 2 2 3 3\n",
            "1 2 3\n",
            "1 2 3\n"
          ],
          "name": "stdout"
        }
      ]
    }
  ]
}